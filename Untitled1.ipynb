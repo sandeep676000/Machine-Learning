{
  "nbformat": 4,
  "nbformat_minor": 0,
  "metadata": {
    "colab": {
      "provenance": []
    },
    "kernelspec": {
      "name": "python3",
      "display_name": "Python 3"
    },
    "language_info": {
      "name": "python"
    }
  },
  "cells": [
    {
      "cell_type": "code",
      "execution_count": 4,
      "metadata": {
        "colab": {
          "base_uri": "https://localhost:8080/"
        },
        "id": "wJn8sz_1DpSx",
        "outputId": "a4d32471-a94f-4b50-f315-0da80cd51239"
      },
      "outputs": [
        {
          "output_type": "stream",
          "name": "stdout",
          "text": [
            "Training data (X_train):\n",
            "     package\n",
            "79      3.00\n",
            "197     3.24\n",
            "38      4.36\n",
            "24      2.71\n",
            "122     2.01\n",
            "Training labels (y_train):\n",
            "79     3.00\n",
            "197    3.24\n",
            "38     4.36\n",
            "24     2.71\n",
            "122    2.01\n",
            "Name: package, dtype: float64\n",
            "\n",
            "Testing data (X_test):\n",
            "     package\n",
            "95      2.79\n",
            "15      3.23\n",
            "30      3.26\n",
            "158     3.04\n",
            "128     3.34\n",
            "Testing labels (y_test):\n",
            "95     2.79\n",
            "15     3.23\n",
            "30     3.26\n",
            "158    3.04\n",
            "128    3.34\n",
            "Name: package, dtype: float64\n"
          ]
        }
      ],
      "source": [
        "import pandas as pd\n",
        "from sklearn.model_selection import train_test_split\n",
        "\n",
        "data = pd.read_csv(r'/content/placement.csv')\n",
        "\n",
        "\n",
        "X = data.drop('cgpa', axis=1)\n",
        "y = data['package']\n",
        "\n",
        "X_train, X_test, y_train, y_test = train_test_split(X, y, test_size=0.2, random_state=42)\n",
        "\n",
        "\n",
        "print(\"Training data (X_train):\")\n",
        "print(X_train.head())\n",
        "print(\"Training labels (y_train):\")\n",
        "print(y_train.head())\n",
        "print(\"\\nTesting data (X_test):\")\n",
        "print(X_test.head())\n",
        "print(\"Testing labels (y_test):\")\n",
        "print(y_test.head())\n"
      ]
    },
    {
      "cell_type": "code",
      "source": [],
      "metadata": {
        "id": "8Qr9hT9qE3tW"
      },
      "execution_count": null,
      "outputs": []
    },
    {
      "cell_type": "markdown",
      "source": [
        "# New Section"
      ],
      "metadata": {
        "id": "GB-XHF08ENty"
      }
    }
  ]
}